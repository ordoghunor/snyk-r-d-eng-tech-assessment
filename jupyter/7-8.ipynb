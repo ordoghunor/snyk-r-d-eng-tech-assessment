{
 "cells": [
  {
   "cell_type": "code",
   "execution_count": 5,
   "metadata": {},
   "outputs": [
    {
     "name": "stdout",
     "output_type": "stream",
     "text": [
      "\n",
      "#\n",
      "##\n",
      "###\n",
      "####\n",
      "#####\n"
     ]
    }
   ],
   "source": [
    "## 7 ##\n",
    "\n",
    "n = 5\n",
    "\n",
    "for i in range(n+1):\n",
    "  for j in range(i):\n",
    "    print('#', end='')\n",
    "  print('')"
   ]
  },
  {
   "cell_type": "code",
   "execution_count": 1,
   "metadata": {},
   "outputs": [
    {
     "name": "stdout",
     "output_type": "stream",
     "text": [
      "if man was meant to stay on the ground god would have given us roots\n",
      "ifmanwasmeanttostayonthegroundgodwouldhavegivenusroots\n",
      "7\n"
     ]
    }
   ],
   "source": [
    "## 8 ##\n",
    "from math import floor, ceil\n",
    "\n",
    "\n",
    "s = 'if man was meant to stay on the ground god would have given us roots'\n",
    "print(s)\n",
    "\n",
    "s = s.replace(' ','')\n",
    "print(s)\n",
    "\n",
    "\n",
    "row = floor(7.8)\n",
    "print(row)\n"
   ]
  }
 ],
 "metadata": {
  "kernelspec": {
   "display_name": "Python 3",
   "language": "python",
   "name": "python3"
  },
  "language_info": {
   "codemirror_mode": {
    "name": "ipython",
    "version": 3
   },
   "file_extension": ".py",
   "mimetype": "text/x-python",
   "name": "python",
   "nbconvert_exporter": "python",
   "pygments_lexer": "ipython3",
   "version": "3.10.5"
  }
 },
 "nbformat": 4,
 "nbformat_minor": 2
}
