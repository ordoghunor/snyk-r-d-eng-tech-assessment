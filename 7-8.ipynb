{
 "cells": [
  {
   "cell_type": "code",
   "execution_count": 5,
   "metadata": {},
   "outputs": [
    {
     "name": "stdout",
     "output_type": "stream",
     "text": [
      "\n",
      "#\n",
      "##\n",
      "###\n",
      "####\n",
      "#####\n"
     ]
    }
   ],
   "source": [
    "## 7 ##\n",
    "\n",
    "n = 5\n",
    "\n",
    "for i in range(n+1):\n",
    "  for j in range(i):\n",
    "    print('#', end='')\n",
    "  print('')"
   ]
  },
  {
   "cell_type": "code",
   "execution_count": 3,
   "metadata": {},
   "outputs": [
    {
     "name": "stdout",
     "output_type": "stream",
     "text": [
      "ifmanwas\n",
      "meanttos\n",
      "tayonthe\n",
      "groundgo\n",
      "dwouldha\n",
      "vegivenu\n",
      "sroots\n"
     ]
    }
   ],
   "source": [
    "## 8 ##\n",
    "from math import floor, ceil, sqrt\n",
    "\n",
    "\n",
    "s = 'if man was meant to stay on the ground god would have given us roots'\n",
    "\n",
    "s = s.replace(' ','')\n",
    "\n",
    "row = floor(sqrt(s.__len__()))\n",
    "column = ceil(sqrt(s.__len__()))\n",
    "\n",
    "k = 0\n",
    "for i in range(row):\n",
    "  for j in range(column):\n",
    "    if k < s.__len__():\n",
    "      print(s[k], end='')\n",
    "    k += 1\n",
    "  print()\n"
   ]
  }
 ],
 "metadata": {
  "kernelspec": {
   "display_name": "Python 3",
   "language": "python",
   "name": "python3"
  },
  "language_info": {
   "codemirror_mode": {
    "name": "ipython",
    "version": 3
   },
   "file_extension": ".py",
   "mimetype": "text/x-python",
   "name": "python",
   "nbconvert_exporter": "python",
   "pygments_lexer": "ipython3",
   "version": "3.10.5"
  }
 },
 "nbformat": 4,
 "nbformat_minor": 2
}
